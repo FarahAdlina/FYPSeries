{
  "nbformat": 4,
  "nbformat_minor": 0,
  "metadata": {
    "colab": {
      "provenance": [],
      "include_colab_link": true
    },
    "kernelspec": {
      "name": "python3",
      "display_name": "Python 3"
    },
    "language_info": {
      "name": "python"
    }
  },
  "cells": [
    {
      "cell_type": "markdown",
      "metadata": {
        "id": "view-in-github",
        "colab_type": "text"
      },
      "source": [
        "<a href=\"https://colab.research.google.com/github/FarahAdlina/FYPSeries/blob/main/Copy_of_FYP_Synthetic_data.ipynb\" target=\"_parent\"><img src=\"https://colab.research.google.com/assets/colab-badge.svg\" alt=\"Open In Colab\"/></a>"
      ]
    },
    {
      "cell_type": "code",
      "execution_count": null,
      "metadata": {
        "colab": {
          "base_uri": "https://localhost:8080/"
        },
        "id": "XiJubIRpCnyE",
        "outputId": "75bfbb81-5a10-46d5-fb52-239eb4755046"
      },
      "outputs": [
        {
          "output_type": "stream",
          "name": "stdout",
          "text": [
            "Looking in indexes: https://pypi.org/simple, https://us-python.pkg.dev/colab-wheels/public/simple/\n",
            "Requirement already satisfied: Faker in /usr/local/lib/python3.8/dist-packages (16.4.0)\n",
            "Requirement already satisfied: python-dateutil>=2.4 in /usr/local/lib/python3.8/dist-packages (from Faker) (2.8.2)\n",
            "Requirement already satisfied: six>=1.5 in /usr/local/lib/python3.8/dist-packages (from python-dateutil>=2.4->Faker) (1.15.0)\n"
          ]
        }
      ],
      "source": [
        "pip install Faker"
      ]
    },
    {
      "cell_type": "code",
      "source": [
        "#lib to generate data\n",
        "from faker import Faker\n",
        "faker = Faker()\n",
        "\n",
        "from faker.providers import DynamicProvider\n",
        "\n",
        "#to write and save in csv\n",
        "import csv"
      ],
      "metadata": {
        "id": "ORdfOcQMKNli"
      },
      "execution_count": null,
      "outputs": []
    },
    {
      "cell_type": "code",
      "source": [
        "#to provide element from external source\n",
        "gender_provider = DynamicProvider(\n",
        "     provider_name=\"gender\",\n",
        "     elements=['Male', 'Female'],\n",
        ")\n",
        "\n",
        "race_provider = DynamicProvider(\n",
        "     provider_name=\"race\",\n",
        "     elements=['Malay', 'Chinese', 'Indian', 'Mixed race',\n",
        "               'Sarawak/Sabah native', 'Other'],\n",
        ")\n",
        "\n",
        "religion_provider = DynamicProvider(\n",
        "     provider_name=\"religion\",\n",
        "     elements=['Muslim/Muslimah', 'Christian', 'Hindu', 'Buddhist',\n",
        "               'Jewish', 'Other'],\n",
        ")\n",
        "\n",
        "highest_edu_provider = DynamicProvider(\n",
        "     provider_name=\"highest_edu\",\n",
        "     elements=['Primary school', 'Secondary school',\n",
        "               'College/ matriculation/ form 6',\n",
        "               'Diploma', 'Bachelor', 'Master', 'PhD'],\n",
        ")\n",
        "\n",
        "job_status_provider = DynamicProvider(\n",
        "     provider_name=\"job_status\",\n",
        "     elements=['Employed/Self-employed', 'Unemployed', 'Retired', 'Student'],\n",
        ")\n",
        "\n",
        "marital_status_provider = DynamicProvider(\n",
        "     provider_name=\"marital_status\",\n",
        "     elements=['Single', 'Married', 'Divorced', 'Separated'],\n",
        ")\n",
        "\n",
        "two_choice_provider = DynamicProvider(\n",
        "     provider_name=\"two_choice\",\n",
        "     elements=['Yes', 'No'],\n",
        ")\n",
        "\n",
        "two_choice_v2_provider = DynamicProvider(\n",
        "     provider_name=\"two_choice_v2\",\n",
        "     elements=['Yes(bizarre)', 'No'],\n",
        ")\n",
        "\n",
        "three_choice_provider = DynamicProvider(\n",
        "     provider_name=\"three_choice\",\n",
        "     elements=['Yes', 'Yes(bizarre)', 'No'],\n",
        ")\n",
        "\n",
        "#add new provider to faker instance\n",
        "faker.add_provider(gender_provider),\n",
        "faker.add_provider(race_provider),\n",
        "faker.add_provider(religion_provider),\n",
        "faker.add_provider(highest_edu_provider),\n",
        "faker.add_provider(job_status_provider),\n",
        "faker.add_provider(marital_status_provider)\n",
        "faker.add_provider(two_choice_provider),\n",
        "faker.add_provider(two_choice_v2_provider),\n",
        "faker.add_provider(three_choice_provider),"
      ],
      "metadata": {
        "colab": {
          "base_uri": "https://localhost:8080/"
        },
        "id": "qZR3bqB-2IZL",
        "outputId": "833c2f23-f547-463f-803e-9aba90b1cb70"
      },
      "execution_count": null,
      "outputs": [
        {
          "output_type": "execute_result",
          "data": {
            "text/plain": [
              "(None,)"
            ]
          },
          "metadata": {},
          "execution_count": 4
        }
      ]
    },
    {
      "cell_type": "code",
      "source": [
        "def datagenerate(records, headers):\n",
        "\n",
        "   # r= read, w= write, wt= ? (no idea but it works)\n",
        "   with open(\"Prodromal_schizo_data.csv\", 'wt') as csvFile:\n",
        "\n",
        "        #Create a csv dictionary writer and add the header as field names\n",
        "        writer = csv.DictWriter(csvFile, fieldnames=headers)\n",
        "        writer.writeheader()\n",
        "\n",
        "\n",
        "        for i in range(records):\n",
        "          writer.writerow({\n",
        "\n",
        "             #demographic\n",
        "             \"Age\" : faker.random_int(16, 75),\n",
        "             \"Gender\" : faker.gender(),\n",
        "             \"Race\" : faker.race(),\n",
        "             \"Religion\" : faker.religion(),\n",
        "             \"Highest edu\" : faker.highest_edu(),\n",
        "             \"Own driving license\" : faker.two_choice(),\n",
        "             \"Job status\" : faker.job_status(),\n",
        "             \"Marital status\" : faker.marital_status(),\n",
        "             \"Own pet/s\" : faker.two_choice(),\n",
        "             \"Have hobby/ies\" : faker.two_choice(),\n",
        "\n",
        "             #delusional\n",
        "             \"L1 a) Have you ever believed that people were spying on you, or that someone was plotting against you, or trying to hurt you?\" : faker.three_choice(),\n",
        "             \"L1 b) Do you currently believe these things?\" : faker.three_choice(),\n",
        "\n",
        "             \"L2 a) Have you ever believed that someone was reading your mind or could hear your thoughts, or that you could actually read someone’s mind or hear what another person was thinking?\" : faker.three_choice(),\n",
        "             \"L2 b) Do you currently believe these things?\" : faker.three_choice(),\n",
        "\n",
        "             \"L3 a) Have you ever believed that someone or some force outside of yourself put thoughts in your mind that were not your own, or made you act in a way that was not your usual self? Have you ever felt that you were possessed?\" : faker.three_choice(),\n",
        "             \"L3 b) Do you currently believe these things?\" : faker.three_choice(),\n",
        "\n",
        "             \"L4 a) Have you ever believed that you were being sent special messages through the TV, radio, or newspaper, or that a person you did not personally know was particularly interested in you?\" : faker.three_choice(),\n",
        "             \"L4 b) Do you currently believe these things?\" : faker.three_choice(),\n",
        "\n",
        "             \"L5 a) Have your relatives or friends ever considered any of your beliefs strange or unusual?\" : faker.three_choice(),\n",
        "             \"L5 b) Do you currently believe these things?\" : faker.three_choice(),\n",
        "\n",
        "             #hallucination\n",
        "             \"L6 a) Have you ever heard things other people could not hear, such as voices?\" : faker.two_choice(),\n",
        "             \"L6) IF YES: Did you hear a voice commenting on your thoughts or behavior or did you hear two or more voices talking to each other?\" : faker.two_choice_v2(),\n",
        "             \"L6 b) Has it happened in the past month?\" : faker.three_choice(),\n",
        "\n",
        "             \"L7 a) Have you ever had visions when you were awake or have you ever seen things other people could not see?\" : faker.two_choice(),\n",
        "             \"L7 b) Has it happened in the past month?\" : faker.two_choice(),\n",
        "\n",
        "             #negative and cognitive symptoms\n",
        "             \"L8 b) IS THE PERSON CURRENTLY EXHIBITING INCOHERENCE, DISORGANIZED SPEECH, OR MARKED LOOSENING OF ASSOCIATIONS?\" : faker.two_choice(),\n",
        "             \"L9 b) IS THE PERSON CURRENTLY EXHIBITING DISORGANIZED OR CATATONIC BEHAVIOR?\" : faker.two_choice(),\n",
        "             \"L10 b) ARE NEGATIVE SYMPTOMS OF SCHIZOPHRENIA, E.G. SIGNIFICANT AFFECTIVE FLATTENING, POVERTY OF SPEECH (ALOGIA) OR AN INABILITY TO INITIATE OR PERSIST IN GOAL-DIRECTED ACTIVITIES (AVOLITION), PROMINENT DURING THE INTERVIEW?\" : faker.two_choice(),\n",
        "\n",
        "             #other factors\n",
        "             \"Are you in a great stress or do you find any of the questions greatly affecting your life recently?\" : faker.two_choice(),\n",
        "             \"Do you have any family member that have been diagnosed with mental illness?\" : faker.two_choice(),\n",
        "             \"Have you been diagnosed by psychiatrist with a schizophrenia related disorder?\" : faker.two_choice()\n",
        "        })\n",
        "\n",
        "\n",
        "\n",
        "headers = ['Age', 'Gender', 'Race', 'Religion', 'Highest edu', 'Own driving license', 'Job status', \"Marital status\", 'Own pet/s', 'Have hobby/ies',\n",
        "           'L1 a) Have you ever believed that people were spying on you, or that someone was plotting against you, or trying to hurt you?',\n",
        "           'L1 b) Do you currently believe these things?',\n",
        "           'L2 a) Have you ever believed that someone was reading your mind or could hear your thoughts, or that you could actually read someone’s mind or hear what another person was thinking?',\n",
        "           'L2 b) Do you currently believe these things?',\n",
        "           'L3 a) Have you ever believed that someone or some force outside of yourself put thoughts in your mind that were not your own, or made you act in a way that was not your usual self? Have you ever felt that you were possessed?',\n",
        "           'L3 b) Do you currently believe these things?',\n",
        "           'L4 a) Have you ever believed that you were being sent special messages through the TV, radio, or newspaper, or that a person you did not personally know was particularly interested in you?',\n",
        "           'L4 b) Do you currently believe these things?',\n",
        "           'L5 a) Have your relatives or friends ever considered any of your beliefs strange or unusual?',\n",
        "           'L5 b) Do you currently believe these things?',\n",
        "           'L6 a) Have you ever heard things other people could not hear, such as voices?',\n",
        "           'L6) IF YES: Did you hear a voice commenting on your thoughts or behavior or did you hear two or more voices talking to each other?',\n",
        "           'L6 b) Has it happened in the past month?',\n",
        "           'L7 a) Have you ever had visions when you were awake or have you ever seen things other people could not see?',\n",
        "           'L7 b) Has it happened in the past month?',\n",
        "           'L8 b) IS THE PERSON CURRENTLY EXHIBITING INCOHERENCE, DISORGANIZED SPEECH, OR MARKED LOOSENING OF ASSOCIATIONS?',\n",
        "           'L9 b) IS THE PERSON CURRENTLY EXHIBITING DISORGANIZED OR CATATONIC BEHAVIOR?',\n",
        "           'L10 b) ARE NEGATIVE SYMPTOMS OF SCHIZOPHRENIA, E.G. SIGNIFICANT AFFECTIVE FLATTENING, POVERTY OF SPEECH (ALOGIA) OR AN INABILITY TO INITIATE OR PERSIST IN GOAL-DIRECTED ACTIVITIES (AVOLITION), PROMINENT DURING THE INTERVIEW?',\n",
        "           'Are you in a great stress or do you find any of the questions greatly affecting your life recently?',\n",
        "           'Do you have any family member that have been diagnosed with mental illness?',\n",
        "           'Have you been diagnosed by psychiatrist with a schizophrenia related disorder?']\n",
        "\n",
        "records = 1000\n",
        "\n",
        "datagenerate(records, headers)\n",
        "#csvFile.close()                      no need since using the 'with'\n",
        "\n",
        "print(\"CSV generation complete!\")"
      ],
      "metadata": {
        "colab": {
          "base_uri": "https://localhost:8080/"
        },
        "id": "2ZCzzYufSXfV",
        "outputId": "4554d261-8f7e-45c1-fd8a-491f9204286b"
      },
      "execution_count": null,
      "outputs": [
        {
          "output_type": "stream",
          "name": "stdout",
          "text": [
            "CSV generation complete!\n"
          ]
        }
      ]
    }
  ]
}