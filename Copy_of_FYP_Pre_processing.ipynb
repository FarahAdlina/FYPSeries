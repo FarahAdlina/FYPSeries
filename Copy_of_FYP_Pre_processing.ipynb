{
  "cells": [
    {
      "cell_type": "markdown",
      "metadata": {
        "id": "view-in-github",
        "colab_type": "text"
      },
      "source": [
        "<a href=\"https://colab.research.google.com/github/FarahAdlina/FYPSeries/blob/main/Copy_of_FYP_Pre_processing.ipynb\" target=\"_parent\"><img src=\"https://colab.research.google.com/assets/colab-badge.svg\" alt=\"Open In Colab\"/></a>"
      ]
    },
    {
      "cell_type": "markdown",
      "source": [
        "The original owner of this notebook belongs to Farah Adlina Ja'afar"
      ],
      "metadata": {
        "id": "o3O67z5lEWJN"
      }
    },
    {
      "cell_type": "markdown",
      "metadata": {
        "id": "mWZZ3nrGpGTm"
      },
      "source": [
        "#Importing data and libraries\n"
      ]
    },
    {
      "cell_type": "code",
      "execution_count": null,
      "metadata": {
        "id": "jD606A7fNMrE"
      },
      "outputs": [],
      "source": [
        "#import libraries\n",
        "\n",
        "#importing dataset, load from file uploader\n",
        "from google.colab import files\n",
        "\n",
        "\n",
        "\n",
        "#library for numerical computing\n",
        "import numpy as np\n",
        "#library for data manipulation and analysis\n",
        "import pandas as pd\n",
        "\n",
        "\n",
        "\n",
        "#preprocessing library\n",
        "from sklearn import preprocessing\n",
        "#visualisation library\n",
        "import seaborn as sns\n",
        "from matplotlib import pyplot as plt\n",
        "#to get the random state\n",
        "import random\n",
        "#feature selection= mutual information\n",
        "from sklearn.feature_selection import mutual_info_classif\n",
        "#for splitting dataset\n",
        "from sklearn.model_selection import train_test_split\n",
        "#more sophisticated oversampling algo\n",
        "from imblearn.over_sampling import SMOTE\n",
        "\n",
        "\n",
        "\n",
        "#import scikit-learn metrics module for accuracy calculation\n",
        "from sklearn import metrics\n",
        "from sklearn.metrics import classification_report, confusion_matrix, accuracy_score, precision_score\n",
        "\n",
        "\n",
        "\n",
        "#import Random Forest Classifier\n",
        "from sklearn.ensemble import RandomForestClassifier\n",
        "\n",
        "#import GBC\n",
        "from sklearn.ensemble import GradientBoostingClassifier\n",
        "\n",
        "\n",
        "\n",
        "#converting a Python object into a byte stream\n",
        "import pickle\n",
        "\n",
        "\n",
        "\n",
        "#a subclass of exception\n",
        "import warnings\n",
        "#\"ignore\" means \"never display warnings which match\"\n",
        "warnings.filterwarnings(\"ignore\")"
      ]
    },
    {
      "cell_type": "code",
      "execution_count": null,
      "metadata": {
        "id": "5NcnEgv3JbsC",
        "colab": {
          "base_uri": "https://localhost:8080/",
          "height": 377
        },
        "outputId": "794dd025-b8bc-4073-cd12-d4d4bef03b22"
      },
      "outputs": [
        {
          "output_type": "error",
          "ename": "FileNotFoundError",
          "evalue": "ignored",
          "traceback": [
            "\u001b[0;31m---------------------------------------------------------------------------\u001b[0m",
            "\u001b[0;31mFileNotFoundError\u001b[0m                         Traceback (most recent call last)",
            "\u001b[0;32m<ipython-input-2-8fa5ca244abb>\u001b[0m in \u001b[0;36m<module>\u001b[0;34m\u001b[0m\n\u001b[1;32m      4\u001b[0m \u001b[0;31m#data = pd.read_excel('synthetic_data_prodromal_schizo.xlsx')\u001b[0m\u001b[0;34m\u001b[0m\u001b[0;34m\u001b[0m\u001b[0;34m\u001b[0m\u001b[0m\n\u001b[1;32m      5\u001b[0m \u001b[0;34m\u001b[0m\u001b[0m\n\u001b[0;32m----> 6\u001b[0;31m \u001b[0mdata\u001b[0m \u001b[0;34m=\u001b[0m \u001b[0mpd\u001b[0m\u001b[0;34m.\u001b[0m\u001b[0mread_excel\u001b[0m\u001b[0;34m(\u001b[0m\u001b[0;34m'/content/synthetic_data_prodromal_schizo.xlsx'\u001b[0m\u001b[0;34m)\u001b[0m\u001b[0;34m\u001b[0m\u001b[0;34m\u001b[0m\u001b[0m\n\u001b[0m",
            "\u001b[0;32m/usr/local/lib/python3.8/dist-packages/pandas/util/_decorators.py\u001b[0m in \u001b[0;36mwrapper\u001b[0;34m(*args, **kwargs)\u001b[0m\n\u001b[1;32m    309\u001b[0m                     \u001b[0mstacklevel\u001b[0m\u001b[0;34m=\u001b[0m\u001b[0mstacklevel\u001b[0m\u001b[0;34m,\u001b[0m\u001b[0;34m\u001b[0m\u001b[0;34m\u001b[0m\u001b[0m\n\u001b[1;32m    310\u001b[0m                 )\n\u001b[0;32m--> 311\u001b[0;31m             \u001b[0;32mreturn\u001b[0m \u001b[0mfunc\u001b[0m\u001b[0;34m(\u001b[0m\u001b[0;34m*\u001b[0m\u001b[0margs\u001b[0m\u001b[0;34m,\u001b[0m \u001b[0;34m**\u001b[0m\u001b[0mkwargs\u001b[0m\u001b[0;34m)\u001b[0m\u001b[0;34m\u001b[0m\u001b[0;34m\u001b[0m\u001b[0m\n\u001b[0m\u001b[1;32m    312\u001b[0m \u001b[0;34m\u001b[0m\u001b[0m\n\u001b[1;32m    313\u001b[0m         \u001b[0;32mreturn\u001b[0m \u001b[0mwrapper\u001b[0m\u001b[0;34m\u001b[0m\u001b[0;34m\u001b[0m\u001b[0m\n",
            "\u001b[0;32m/usr/local/lib/python3.8/dist-packages/pandas/io/excel/_base.py\u001b[0m in \u001b[0;36mread_excel\u001b[0;34m(io, sheet_name, header, names, index_col, usecols, squeeze, dtype, engine, converters, true_values, false_values, skiprows, nrows, na_values, keep_default_na, na_filter, verbose, parse_dates, date_parser, thousands, comment, skipfooter, convert_float, mangle_dupe_cols, storage_options)\u001b[0m\n\u001b[1;32m    362\u001b[0m     \u001b[0;32mif\u001b[0m \u001b[0;32mnot\u001b[0m \u001b[0misinstance\u001b[0m\u001b[0;34m(\u001b[0m\u001b[0mio\u001b[0m\u001b[0;34m,\u001b[0m \u001b[0mExcelFile\u001b[0m\u001b[0;34m)\u001b[0m\u001b[0;34m:\u001b[0m\u001b[0;34m\u001b[0m\u001b[0;34m\u001b[0m\u001b[0m\n\u001b[1;32m    363\u001b[0m         \u001b[0mshould_close\u001b[0m \u001b[0;34m=\u001b[0m \u001b[0;32mTrue\u001b[0m\u001b[0;34m\u001b[0m\u001b[0;34m\u001b[0m\u001b[0m\n\u001b[0;32m--> 364\u001b[0;31m         \u001b[0mio\u001b[0m \u001b[0;34m=\u001b[0m \u001b[0mExcelFile\u001b[0m\u001b[0;34m(\u001b[0m\u001b[0mio\u001b[0m\u001b[0;34m,\u001b[0m \u001b[0mstorage_options\u001b[0m\u001b[0;34m=\u001b[0m\u001b[0mstorage_options\u001b[0m\u001b[0;34m,\u001b[0m \u001b[0mengine\u001b[0m\u001b[0;34m=\u001b[0m\u001b[0mengine\u001b[0m\u001b[0;34m)\u001b[0m\u001b[0;34m\u001b[0m\u001b[0;34m\u001b[0m\u001b[0m\n\u001b[0m\u001b[1;32m    365\u001b[0m     \u001b[0;32melif\u001b[0m \u001b[0mengine\u001b[0m \u001b[0;32mand\u001b[0m \u001b[0mengine\u001b[0m \u001b[0;34m!=\u001b[0m \u001b[0mio\u001b[0m\u001b[0;34m.\u001b[0m\u001b[0mengine\u001b[0m\u001b[0;34m:\u001b[0m\u001b[0;34m\u001b[0m\u001b[0;34m\u001b[0m\u001b[0m\n\u001b[1;32m    366\u001b[0m         raise ValueError(\n",
            "\u001b[0;32m/usr/local/lib/python3.8/dist-packages/pandas/io/excel/_base.py\u001b[0m in \u001b[0;36m__init__\u001b[0;34m(self, path_or_buffer, engine, storage_options)\u001b[0m\n\u001b[1;32m   1189\u001b[0m                 \u001b[0mext\u001b[0m \u001b[0;34m=\u001b[0m \u001b[0;34m\"xls\"\u001b[0m\u001b[0;34m\u001b[0m\u001b[0;34m\u001b[0m\u001b[0m\n\u001b[1;32m   1190\u001b[0m             \u001b[0;32melse\u001b[0m\u001b[0;34m:\u001b[0m\u001b[0;34m\u001b[0m\u001b[0;34m\u001b[0m\u001b[0m\n\u001b[0;32m-> 1191\u001b[0;31m                 ext = inspect_excel_format(\n\u001b[0m\u001b[1;32m   1192\u001b[0m                     \u001b[0mcontent_or_path\u001b[0m\u001b[0;34m=\u001b[0m\u001b[0mpath_or_buffer\u001b[0m\u001b[0;34m,\u001b[0m \u001b[0mstorage_options\u001b[0m\u001b[0;34m=\u001b[0m\u001b[0mstorage_options\u001b[0m\u001b[0;34m\u001b[0m\u001b[0;34m\u001b[0m\u001b[0m\n\u001b[1;32m   1193\u001b[0m                 )\n",
            "\u001b[0;32m/usr/local/lib/python3.8/dist-packages/pandas/io/excel/_base.py\u001b[0m in \u001b[0;36minspect_excel_format\u001b[0;34m(content_or_path, storage_options)\u001b[0m\n\u001b[1;32m   1068\u001b[0m         \u001b[0mcontent_or_path\u001b[0m \u001b[0;34m=\u001b[0m \u001b[0mBytesIO\u001b[0m\u001b[0;34m(\u001b[0m\u001b[0mcontent_or_path\u001b[0m\u001b[0;34m)\u001b[0m\u001b[0;34m\u001b[0m\u001b[0;34m\u001b[0m\u001b[0m\n\u001b[1;32m   1069\u001b[0m \u001b[0;34m\u001b[0m\u001b[0m\n\u001b[0;32m-> 1070\u001b[0;31m     with get_handle(\n\u001b[0m\u001b[1;32m   1071\u001b[0m         \u001b[0mcontent_or_path\u001b[0m\u001b[0;34m,\u001b[0m \u001b[0;34m\"rb\"\u001b[0m\u001b[0;34m,\u001b[0m \u001b[0mstorage_options\u001b[0m\u001b[0;34m=\u001b[0m\u001b[0mstorage_options\u001b[0m\u001b[0;34m,\u001b[0m \u001b[0mis_text\u001b[0m\u001b[0;34m=\u001b[0m\u001b[0;32mFalse\u001b[0m\u001b[0;34m\u001b[0m\u001b[0;34m\u001b[0m\u001b[0m\n\u001b[1;32m   1072\u001b[0m     ) as handle:\n",
            "\u001b[0;32m/usr/local/lib/python3.8/dist-packages/pandas/io/common.py\u001b[0m in \u001b[0;36mget_handle\u001b[0;34m(path_or_buf, mode, encoding, compression, memory_map, is_text, errors, storage_options)\u001b[0m\n\u001b[1;32m    709\u001b[0m         \u001b[0;32melse\u001b[0m\u001b[0;34m:\u001b[0m\u001b[0;34m\u001b[0m\u001b[0;34m\u001b[0m\u001b[0m\n\u001b[1;32m    710\u001b[0m             \u001b[0;31m# Binary mode\u001b[0m\u001b[0;34m\u001b[0m\u001b[0;34m\u001b[0m\u001b[0;34m\u001b[0m\u001b[0m\n\u001b[0;32m--> 711\u001b[0;31m             \u001b[0mhandle\u001b[0m \u001b[0;34m=\u001b[0m \u001b[0mopen\u001b[0m\u001b[0;34m(\u001b[0m\u001b[0mhandle\u001b[0m\u001b[0;34m,\u001b[0m \u001b[0mioargs\u001b[0m\u001b[0;34m.\u001b[0m\u001b[0mmode\u001b[0m\u001b[0;34m)\u001b[0m\u001b[0;34m\u001b[0m\u001b[0;34m\u001b[0m\u001b[0m\n\u001b[0m\u001b[1;32m    712\u001b[0m         \u001b[0mhandles\u001b[0m\u001b[0;34m.\u001b[0m\u001b[0mappend\u001b[0m\u001b[0;34m(\u001b[0m\u001b[0mhandle\u001b[0m\u001b[0;34m)\u001b[0m\u001b[0;34m\u001b[0m\u001b[0;34m\u001b[0m\u001b[0m\n\u001b[1;32m    713\u001b[0m \u001b[0;34m\u001b[0m\u001b[0m\n",
            "\u001b[0;31mFileNotFoundError\u001b[0m: [Errno 2] No such file or directory: '/content/synthetic_data_prodromal_schizo.xlsx'"
          ]
        }
      ],
      "source": [
        "#uploaded = files.upload()\n",
        "\n",
        "#loading and copying data from a file\n",
        "#data = pd.read_excel('synthetic_data_prodromal_schizo.xlsx')\n",
        "\n",
        "data = pd.read_excel('/content/synthetic_data_prodromal_schizo.xlsx')"
      ]
    },
    {
      "cell_type": "code",
      "execution_count": null,
      "metadata": {
        "id": "NBHUZGdZJ81i"
      },
      "outputs": [],
      "source": [
        "#shows the first 5 rows\n",
        "data.head()"
      ]
    },
    {
      "cell_type": "code",
      "execution_count": null,
      "metadata": {
        "id": "VAwuSlKT0Ys5"
      },
      "outputs": [],
      "source": [
        "data.Job_status[12]"
      ]
    },
    {
      "cell_type": "code",
      "execution_count": null,
      "metadata": {
        "id": "n6u0Xhbdozol"
      },
      "outputs": [],
      "source": [
        "#check whether there are missing values in the column\n",
        "print(data.isnull().sum())"
      ]
    },
    {
      "cell_type": "markdown",
      "metadata": {
        "id": "nw2QNOMZppqG"
      },
      "source": [
        "#Settings\n",
        "\n",
        "by:\n",
        "1.   changing datatype\n",
        "2.   encoding\n",
        "3.   feature selection\n",
        "4.   Selecting target/Dropping attribute\n",
        "5.   Splitting into training and testing sets\n",
        "6.   Oversampling\n"
      ]
    },
    {
      "cell_type": "code",
      "execution_count": null,
      "metadata": {
        "id": "SPMIDN5IKgwm"
      },
      "outputs": [],
      "source": [
        "#shows datatype\n",
        "data.dtypes"
      ]
    },
    {
      "cell_type": "markdown",
      "metadata": {
        "id": "kcS6YnVY8W02"
      },
      "source": [
        "## Changing datatype"
      ]
    },
    {
      "cell_type": "code",
      "execution_count": null,
      "metadata": {
        "id": "q9zUC3BzmDVq"
      },
      "outputs": [],
      "source": [
        "data = data.drop(columns=['Age', 'Delusional_satisfied', 'Hallucination_satisfied', 'Negative_symptoms_satisfied'])"
      ]
    },
    {
      "cell_type": "code",
      "execution_count": null,
      "metadata": {
        "id": "uKUN6z7MsJBY"
      },
      "outputs": [],
      "source": [
        "#change the datatype to category\n",
        "#it exploit repetition and can save memory\n",
        "#this code quickly cast all the column into category\n",
        "data= data.astype(\"category\")"
      ]
    },
    {
      "cell_type": "code",
      "execution_count": null,
      "metadata": {
        "id": "hth6krtUtEvX"
      },
      "outputs": [],
      "source": [
        "#show the datatype again\n",
        "data.dtypes"
      ]
    },
    {
      "cell_type": "code",
      "execution_count": null,
      "metadata": {
        "id": "x9c2_QRC2vGD"
      },
      "outputs": [],
      "source": [
        "#show a single column's datatype\n",
        "data.dtypes['Have_you_been_diagnosed_by_psychiatrist_with_a_schizophrenia_related_disorder']"
      ]
    },
    {
      "cell_type": "markdown",
      "metadata": {
        "id": "dtaO6Uxh9NVy"
      },
      "source": [
        "## Encoding"
      ]
    },
    {
      "cell_type": "code",
      "execution_count": null,
      "metadata": {
        "id": "XCjvZxJNv2mE"
      },
      "outputs": [],
      "source": [
        "#change category columns to int\n",
        "data[\"Gender\"]=data[\"Gender\"].cat.codes\n",
        "data[\"Race\"]=data[\"Race\"].cat.codes\n",
        "data[\"Religion\"]=data[\"Religion\"].cat.codes\n",
        "data[\"Own_driving_license\"]=data[\"Own_driving_license\"].cat.codes\n",
        "data[\"Job_status\"]=data[\"Job_status\"].cat.codes\n",
        "data[\"Marital_status\"]=data[\"Marital_status\"].cat.codes\n",
        "data[\"Own_pet\"]=data[\"Own_pet\"].cat.codes\n",
        "data[\"Have_hobby\"]=data[\"Have_hobby\"].cat.codes\n",
        "data[\"Are_you_in_a_great_stress_or_do_you_find_any_of_the_questions_greatly_affecting_your_life_recently\"]=data[\"Are_you_in_a_great_stress_or_do_you_find_any_of_the_questions_greatly_affecting_your_life_recently\"].cat.codes\n",
        "data[\"Do_you_have_any_family_member_that_have_been_diagnosed_with_mental_illness\"]=data[\"Do_you_have_any_family_member_that_have_been_diagnosed_with_mental_illness\"].cat.codes\n",
        "data[\"Have_you_been_diagnosed_by_psychiatrist_with_a_schizophrenia_related_disorder\"]=data[\"Have_you_been_diagnosed_by_psychiatrist_with_a_schizophrenia_related_disorder\"].cat.codes"
      ]
    },
    {
      "cell_type": "code",
      "execution_count": null,
      "metadata": {
        "id": "qwQ6736elzHa"
      },
      "outputs": [],
      "source": [
        "#ordinal encoder\n",
        "scale_mapper1 = {\"16-35\":0, \"36-55\": 1, \">55\":2}\n",
        "data[\"Age_category\"] = data[\"Age_category\"].replace(scale_mapper1)\n",
        "scale_mapper2 = {\"Primary school\":0, \"Secondary school\":1, \"Diploma\":2, \"College/ matriculation/ form 6\":3, \"Bachelor\":4, \"Master\":5, \"PhD\":6}\n",
        "data[\"Highest_edu\"] = data[\"Highest_edu\"].replace(scale_mapper2)"
      ]
    },
    {
      "cell_type": "code",
      "execution_count": null,
      "metadata": {
        "id": "FY-kEMJ9k6c8"
      },
      "outputs": [],
      "source": [
        "#change to int type\n",
        "data[\"Age_category\"] = data[\"Age_category\"].astype(\"int\")\n",
        "data[\"Highest_edu\"] = data[\"Highest_edu\"].astype(\"int\")"
      ]
    },
    {
      "cell_type": "code",
      "execution_count": null,
      "metadata": {
        "id": "PmiAbdRJkrWV"
      },
      "outputs": [],
      "source": [
        "data.dtypes"
      ]
    },
    {
      "cell_type": "code",
      "execution_count": null,
      "metadata": {
        "id": "hMBrbT_E0CrA"
      },
      "outputs": [],
      "source": [
        "data"
      ]
    },
    {
      "cell_type": "markdown",
      "source": [
        "## Feature selection"
      ],
      "metadata": {
        "id": "0zR-s1ax57Om"
      }
    },
    {
      "cell_type": "code",
      "source": [
        "#set1\n",
        "#select variables for feature selection\n",
        "x_data = data.drop(columns= ['Have_you_been_diagnosed_by_psychiatrist_with_a_schizophrenia_related_disorder'])\n",
        "y_data = data['Have_you_been_diagnosed_by_psychiatrist_with_a_schizophrenia_related_disorder']"
      ],
      "metadata": {
        "id": "P6aio1VAnI0C"
      },
      "execution_count": null,
      "outputs": []
    },
    {
      "cell_type": "code",
      "source": [
        "#Mutual information\n",
        "dependencies = mutual_info_classif(x_data, y_data, copy = True, random_state = 0)\n",
        "feat_importances = pd.Series(dependencies, data.columns[0:len(data.columns)-1])\n",
        "feat_importances.plot(kind= 'barh', color= 'green')\n",
        "plt.show()"
      ],
      "metadata": {
        "id": "9aXxGEjEmZvc"
      },
      "execution_count": null,
      "outputs": []
    },
    {
      "cell_type": "code",
      "source": [
        "#uploaded = files.upload()\n",
        "\n",
        "#loading and copying data from a file in collab folder\n",
        "data = pd.read_csv('/content/pre-processed_syndata_prodromal_schizo_v3.csv')"
      ],
      "metadata": {
        "id": "RfaMMdi2xwKm"
      },
      "execution_count": null,
      "outputs": []
    },
    {
      "cell_type": "markdown",
      "source": [
        "### Download pre-processed dataset"
      ],
      "metadata": {
        "id": "r1HTifyjV1S2"
      }
    },
    {
      "cell_type": "code",
      "source": [
        "data.to_csv(r'pre-processed_syndata_prodromal_schizo_v.csv', header=True)"
      ],
      "metadata": {
        "id": "Fvxu8F42V7Ak"
      },
      "execution_count": null,
      "outputs": []
    },
    {
      "cell_type": "markdown",
      "source": [
        "## Selecting target/Dropping attribute"
      ],
      "metadata": {
        "id": "xndKTjcU5_Wu"
      }
    },
    {
      "cell_type": "code",
      "source": [
        "#set2\n",
        "#selecting target for modelling\n",
        "x_data = data[['Gender', 'Highest_edu', 'Own_driving_license', 'Have_hobby']]\n",
        "y_data = data['Have_you_been_diagnosed_by_psychiatrist_with_a_schizophrenia_related_disorder']"
      ],
      "metadata": {
        "id": "PU17dPm8ysCB"
      },
      "execution_count": null,
      "outputs": []
    },
    {
      "cell_type": "code",
      "source": [
        "#set3\n",
        "#selecting target for modelling\n",
        "x_data = data[['Gender', 'Highest_edu', 'Own_driving_license', 'Have_hobby',\n",
        "               'Are_you_in_a_great_stress_or_do_you_find_any_of_the_questions_greatly_affecting_your_life_recently',\n",
        "               'Do_you_have_any_family_member_that_have_been_diagnosed_with_mental_illness']]\n",
        "y_data = data['Have_you_been_diagnosed_by_psychiatrist_with_a_schizophrenia_related_disorder']"
      ],
      "metadata": {
        "id": "B1Hg81eIylPn"
      },
      "execution_count": null,
      "outputs": []
    },
    {
      "cell_type": "code",
      "source": [
        "#set4\n",
        "#selecting target for modelling\n",
        "x_data = data[['Gender', 'Religion','Highest_edu', 'Marital_status', 'Have_hobby',\n",
        "               'Do_you_have_any_family_member_that_have_been_diagnosed_with_mental_illness']]\n",
        "y_data = data['Have_you_been_diagnosed_by_psychiatrist_with_a_schizophrenia_related_disorder']"
      ],
      "metadata": {
        "id": "3I8phkKp97iS"
      },
      "execution_count": null,
      "outputs": []
    },
    {
      "cell_type": "code",
      "source": [
        "#set5\n",
        "#selecting target for modelling\n",
        "x_data = data[['Age_category', 'Gender', 'Religion','Highest_edu', 'Marital_status', 'Have_hobby',\n",
        "               'Do_you_have_any_family_member_that_have_been_diagnosed_with_mental_illness']]\n",
        "y_data = data['Have_you_been_diagnosed_by_psychiatrist_with_a_schizophrenia_related_disorder']"
      ],
      "metadata": {
        "id": "thTiQPV8y4pF"
      },
      "execution_count": null,
      "outputs": []
    },
    {
      "cell_type": "code",
      "source": [
        "#set6\n",
        "#selecting target for modelling\n",
        "x_data = data[['Age_category', 'Religion','Highest_edu', 'Job_status', 'Marital_status',\n",
        "               'Are_you_in_a_great_stress_or_do_you_find_any_of_the_questions_greatly_affecting_your_life_recently']]\n",
        "y_data = data['Have_you_been_diagnosed_by_psychiatrist_with_a_schizophrenia_related_disorder']"
      ],
      "metadata": {
        "id": "qua0WDhgf7bB"
      },
      "execution_count": null,
      "outputs": []
    },
    {
      "cell_type": "markdown",
      "metadata": {
        "id": "rczz0FBk9zmd"
      },
      "source": [
        "## Splitting into training and testing sets"
      ]
    },
    {
      "cell_type": "code",
      "execution_count": null,
      "metadata": {
        "id": "7APPmktaTO-Z"
      },
      "outputs": [],
      "source": [
        "#splitting into train and test set\n",
        "\n",
        "#80:20\n",
        "x_train, x_test, y_train, y_test = train_test_split(x_data, y_data, test_size= 0.2, random_state= 7,\n",
        "                                                    stratify = data['Have_you_been_diagnosed_by_psychiatrist_with_a_schizophrenia_related_disorder'])\n",
        "#60:40\n",
        "x_train1, x_test1, y_train1, y_test1 = train_test_split(x_data, y_data, test_size= 0.4, random_state= 7,\n",
        "                                                        stratify = data['Have_you_been_diagnosed_by_psychiatrist_with_a_schizophrenia_related_disorder'])\n",
        "\n",
        "\n"
      ]
    },
    {
      "cell_type": "markdown",
      "metadata": {
        "id": "sAn5ff9Q-AZl"
      },
      "source": [
        "## Oversampling"
      ]
    },
    {
      "cell_type": "code",
      "execution_count": null,
      "metadata": {
        "id": "IwI8TMGPDrLn"
      },
      "outputs": [],
      "source": [
        "data['Have_you_been_diagnosed_by_psychiatrist_with_a_schizophrenia_related_disorder'].value_counts()"
      ]
    },
    {
      "cell_type": "code",
      "execution_count": null,
      "metadata": {
        "id": "7rD_kkps-Cqu"
      },
      "outputs": [],
      "source": [
        "sns.countplot(y_train)\n",
        "plt.title('Countplot of target')"
      ]
    },
    {
      "cell_type": "code",
      "execution_count": null,
      "metadata": {
        "id": "xdhn_mt8bTgi"
      },
      "outputs": [],
      "source": [
        "#oversampling2\n",
        "sm = SMOTE(sampling_strategy= 'minority', random_state=7)\n",
        "x_train, y_train = sm.fit_resample(x_train, y_train)\n",
        "x_train1, y_train1 = sm.fit_resample(x_train1, y_train1)\n",
        "\n",
        "#lesson: oversampling the test set increase precision greatly but came with the risk of overfitting\n",
        "#x_test, y_test = sm.fit_resample(x_test, y_test)\n",
        "#x_test1, y_test1 = sm.fit_resample(x_test1, y_test1)"
      ]
    },
    {
      "cell_type": "code",
      "execution_count": null,
      "metadata": {
        "id": "dgxvj1nJH1aO"
      },
      "outputs": [],
      "source": [
        "#view data from oversampled_target\n",
        "sns.countplot(y_train)\n",
        "plt.title('Countplot of target')"
      ]
    },
    {
      "cell_type": "code",
      "execution_count": null,
      "metadata": {
        "id": "y0nO0NYGaYNy"
      },
      "outputs": [],
      "source": [
        "#view data from without oversampled the target\n",
        "sns.countplot(y_test)\n",
        "plt.title('Countplot of target')"
      ]
    },
    {
      "cell_type": "code",
      "execution_count": null,
      "metadata": {
        "id": "Qq2HvIxUIn3r"
      },
      "outputs": [],
      "source": [
        "y_train.value_counts()"
      ]
    },
    {
      "cell_type": "code",
      "source": [
        "y_test.value_counts()"
      ],
      "metadata": {
        "id": "e5ECpsFYpHYN"
      },
      "execution_count": null,
      "outputs": []
    },
    {
      "cell_type": "markdown",
      "metadata": {
        "id": "hfY4cpbzH6q9"
      },
      "source": [
        "#Creating  models"
      ]
    },
    {
      "cell_type": "markdown",
      "metadata": {
        "id": "6Uv974Z4QoNe"
      },
      "source": [
        "##Random Forest"
      ]
    },
    {
      "cell_type": "code",
      "execution_count": null,
      "metadata": {
        "colab": {
          "base_uri": "https://localhost:8080/"
        },
        "id": "g9c_38KLNw1B",
        "outputId": "90494592-5821-492d-cc6c-399d97865fc0"
      },
      "outputs": [
        {
          "output_type": "stream",
          "name": "stdout",
          "text": [
            "\n",
            "Classification Report\n",
            "              precision    recall  f1-score   support\n",
            "\n",
            "           0       0.80      0.90      0.85       158\n",
            "           1       0.30      0.17      0.22        42\n",
            "\n",
            "    accuracy                           0.74       200\n",
            "   macro avg       0.55      0.53      0.53       200\n",
            "weighted avg       0.70      0.74      0.71       200\n",
            "\n",
            "\n",
            "Confusion Matrix\n",
            "Predicted    0   1  All\n",
            "Actual                 \n",
            "0          142  16  158\n",
            "1           35   7   42\n",
            "All        177  23  200\n",
            "\n",
            "Performance Accuracy: 74.50 %\n",
            "\n",
            "Precision: 30.43 %\n",
            "\n",
            "Performance Error: 25.50 %\n"
          ]
        }
      ],
      "source": [
        "#random forest 80:20 model\n",
        "rf = RandomForestClassifier(n_estimators=500, criterion='entropy', max_depth=None, random_state=0)\n",
        "rf.fit(x_train, y_train)\n",
        "predictions_rf = rf.predict(x_test)\n",
        "\n",
        "print(\"\\nClassification Report\")\n",
        "print(classification_report(y_test, predictions_rf))\n",
        "print(\"\\nConfusion Matrix\")\n",
        "print(pd.crosstab(y_test, predictions_rf, rownames=['Actual'], colnames=['Predicted'], margins = True))\n",
        "print(\"\\nPerformance Accuracy: {:.2f} %\".format(accuracy_score(y_test, predictions_rf)*100))\n",
        "print(\"\\nPrecision: {:.2f} %\".format(precision_score(y_test, predictions_rf)*100))\n",
        "print(\"\\nPerformance Error: {:.2f} %\".format(100-(accuracy_score(y_test, predictions_rf)*100)))"
      ]
    },
    {
      "cell_type": "code",
      "execution_count": null,
      "metadata": {
        "colab": {
          "base_uri": "https://localhost:8080/"
        },
        "id": "wf-4Bjkn4wm8",
        "outputId": "f6c9ee3e-e003-4271-c7e3-6cf34d4fddc2"
      },
      "outputs": [
        {
          "output_type": "stream",
          "name": "stdout",
          "text": [
            "\n",
            "Classification Report\n",
            "              precision    recall  f1-score   support\n",
            "\n",
            "           0       0.79      0.87      0.83       317\n",
            "           1       0.22      0.13      0.16        83\n",
            "\n",
            "    accuracy                           0.72       400\n",
            "   macro avg       0.50      0.50      0.50       400\n",
            "weighted avg       0.67      0.72      0.69       400\n",
            "\n",
            "\n",
            "Confusion Matrix\n",
            "Predicted    0   1  All\n",
            "Actual                 \n",
            "0          277  40  317\n",
            "1           72  11   83\n",
            "All        349  51  400\n",
            "\n",
            "Performance Accuracy: 72.00 %\n",
            "\n",
            "Precision: 21.57 %\n",
            "\n",
            "Performance Error: 28.00 %\n"
          ]
        }
      ],
      "source": [
        "#random forest 60:40 model\n",
        "rf1 = RandomForestClassifier(n_estimators=500, criterion='entropy', max_depth=None, random_state=0)\n",
        "rf1.fit(x_train1, y_train1)\n",
        "predictions_rf1 = rf1.predict(x_test1)\n",
        "\n",
        "print(\"\\nClassification Report\")\n",
        "print(classification_report(y_test1, predictions_rf1))\n",
        "print(\"\\nConfusion Matrix\")\n",
        "print(pd.crosstab(y_test1, predictions_rf1, rownames=['Actual'], colnames=['Predicted'], margins = True))\n",
        "print(\"\\nPerformance Accuracy: {:.2f} %\".format(accuracy_score(y_test1, predictions_rf1)*100))\n",
        "print(\"\\nPrecision: {:.2f} %\".format(precision_score(y_test1, predictions_rf1)*100))\n",
        "print(\"\\nPerformance Error: {:.2f} %\".format(100-(accuracy_score(y_test1, predictions_rf1)*100)))"
      ]
    },
    {
      "cell_type": "markdown",
      "metadata": {
        "id": "EW4h5Fu8guoV"
      },
      "source": [
        "##Gradient Boosting Classifier (GBC)"
      ]
    },
    {
      "cell_type": "code",
      "execution_count": null,
      "metadata": {
        "colab": {
          "base_uri": "https://localhost:8080/"
        },
        "id": "a5gy_b-agk5z",
        "outputId": "76e38349-cabf-4f7b-eb56-45c6fe7b2dc9"
      },
      "outputs": [
        {
          "output_type": "stream",
          "name": "stdout",
          "text": [
            "\n",
            "Classification Report\n",
            "              precision    recall  f1-score   support\n",
            "\n",
            "           0       0.78      0.96      0.86       158\n",
            "           1       0.00      0.00      0.00        42\n",
            "\n",
            "    accuracy                           0.76       200\n",
            "   macro avg       0.39      0.48      0.43       200\n",
            "weighted avg       0.62      0.76      0.68       200\n",
            "\n",
            "\n",
            "Confusion Matrix\n",
            "Predicted    0  1  All\n",
            "Actual                \n",
            "0          151  7  158\n",
            "1           42  0   42\n",
            "All        193  7  200\n",
            "\n",
            "Performance Accuracy: 75.50 %\n",
            "\n",
            "Precision: 0.00 %\n",
            "\n",
            "Performance Error: 24.50 %\n"
          ]
        }
      ],
      "source": [
        "#gradient boosting classifier 80:20 model\n",
        "gbc = GradientBoostingClassifier(n_estimators=500, learning_rate=0.05, random_state=0, max_features=6)\n",
        "gbc.fit(x_train, y_train)\n",
        "predictions_gbc = gbc.predict(x_test)\n",
        "\n",
        "print(\"\\nClassification Report\")\n",
        "print(classification_report(y_test, predictions_gbc))\n",
        "print(\"\\nConfusion Matrix\")\n",
        "print(pd.crosstab(y_test, predictions_gbc, rownames=['Actual'], colnames=['Predicted'], margins = True))\n",
        "print(\"\\nPerformance Accuracy: {:.2f} %\".format(accuracy_score(y_test, predictions_gbc)*100))\n",
        "print(\"\\nPrecision: {:.2f} %\".format(precision_score(y_test, predictions_gbc)*100))\n",
        "print(\"\\nPerformance Error: {:.2f} %\".format(100-(accuracy_score(y_test, predictions_gbc)*100)))"
      ]
    },
    {
      "cell_type": "code",
      "execution_count": null,
      "metadata": {
        "colab": {
          "base_uri": "https://localhost:8080/"
        },
        "id": "ChVr-l0Ii80Q",
        "outputId": "f362333c-c1b1-4d27-cd8a-bd0e845bf8aa"
      },
      "outputs": [
        {
          "output_type": "stream",
          "name": "stdout",
          "text": [
            "\n",
            "Classification Report\n",
            "              precision    recall  f1-score   support\n",
            "\n",
            "           0       0.79      0.94      0.86       317\n",
            "           1       0.17      0.05      0.07        83\n",
            "\n",
            "    accuracy                           0.75       400\n",
            "   macro avg       0.48      0.49      0.47       400\n",
            "weighted avg       0.66      0.75      0.69       400\n",
            "\n",
            "\n",
            "Confusion Matrix\n",
            "Predicted    0   1  All\n",
            "Actual                 \n",
            "0          297  20  317\n",
            "1           79   4   83\n",
            "All        376  24  400\n",
            "\n",
            "Performance Accuracy: 75.25 %\n",
            "\n",
            "Precision: 16.67 %\n",
            "\n",
            "Performance Error: 24.75 %\n"
          ]
        }
      ],
      "source": [
        "#gradient boosting classifier 60:40 model\n",
        "gbc1 = GradientBoostingClassifier(n_estimators=500,learning_rate=0.05,random_state=0,max_features=6)\n",
        "gbc1.fit(x_train1, y_train1)\n",
        "predictions_gbc1 = gbc1.predict(x_test1)\n",
        "\n",
        "print(\"\\nClassification Report\")\n",
        "print(classification_report(y_test1, predictions_gbc1))\n",
        "print(\"\\nConfusion Matrix\")\n",
        "print(pd.crosstab(y_test1, predictions_gbc1, rownames=['Actual'], colnames=['Predicted'], margins = True))\n",
        "print(\"\\nPerformance Accuracy: {:.2f} %\".format(accuracy_score(y_test1, predictions_gbc1)*100))\n",
        "print(\"\\nPrecision: {:.2f} %\".format(precision_score(y_test1, predictions_gbc1)*100))\n",
        "print(\"\\nPerformance Error: {:.2f} %\".format(100-(accuracy_score(y_test1, predictions_gbc1)*100)))"
      ]
    },
    {
      "cell_type": "markdown",
      "metadata": {
        "id": "ezYVNmt_W1De"
      },
      "source": [
        "# Prediction System"
      ]
    },
    {
      "cell_type": "markdown",
      "metadata": {
        "id": "6GsSiN2GhOCk"
      },
      "source": [
        "## Re-cycle model"
      ]
    },
    {
      "cell_type": "code",
      "execution_count": null,
      "metadata": {
        "id": "F1pIkfrIW5Lj"
      },
      "outputs": [],
      "source": [
        "#serializes objects so they can be saved to a file and loaded in a program again later on\n",
        "filename ='schizo.pkl';\n",
        "\n",
        "#w = write, b = binary mode\n",
        "pickle_out = open(filename, mode = 'wb')\n",
        "#take 2 arguments; object to pickle and file to be save in\n",
        "pickle.dump(rf1, pickle_out)\n",
        "\n",
        "#NEED MORE READING ON THIS PART\n",
        "#r = read, b = binary mode\n",
        "pickle_in = open(filename, mode ='rb')\n",
        "classifier = pickle.load(pickle_in)"
      ]
    },
    {
      "cell_type": "markdown",
      "metadata": {
        "id": "HDXWPWxKhUGM"
      },
      "source": [
        "## Create the web application"
      ]
    },
    {
      "cell_type": "code",
      "execution_count": null,
      "metadata": {
        "id": "QQQYxbW7ZIfX"
      },
      "outputs": [],
      "source": [
        "!pip install streamlit"
      ]
    },
    {
      "cell_type": "code",
      "source": [
        "## Create the psychosis risk prediction system\n",
        "#the framework for python web app\n",
        "@st.cache()\n",
        "\n",
        "#creating function which will make prediction using user input\n",
        "def prediction(Gender, Religion, Highest_edu, Marital_status, Have_hobby,\n",
        "              Do_you_have_any_family_member_that_have_been_diagnosed_with_mental_illness):\n",
        "\n",
        "# #preprocessing user input\n",
        "\n",
        " #Age_category\n",
        " #  if Age_category == \"16-35\":\n",
        " #    Age_category = 0\n",
        " #  elif Age_category == \"35-55\":\n",
        " #    Age_category = 1\n",
        " #  elif Age_category == \">55\":\n",
        " #    Age_category = 2\n",
        "\n",
        " #Gender\n",
        "   if Gender == \"Female\":\n",
        "     Gender = 0\n",
        "   elif Gender == \"Male\":\n",
        "     Gender = 1\n",
        "\n",
        " #Race\n",
        " #  if Race == \"Chinese\":\n",
        " #    Race = 0\n",
        " #  if Race == \"Indian\":\n",
        " #    Race = 1\n",
        " #  if Race == \"Malay\":\n",
        " #    Race = 2\n",
        " #  if Race == \"Mixed race\":\n",
        " #    Race = 3\n",
        " #  if Race == \"Other\":\n",
        " #    Race = 4\n",
        " #  if Race == \"Sarawak/Sabah native\":\n",
        " #    Race = 5\n",
        "\n",
        " #Religion\n",
        "   if Religion == \"Buddhist\":\n",
        "     Religion = 0\n",
        "   if Religion == \"Christian\":\n",
        "     Religion = 1\n",
        "   if Religion == \"Hindu\":\n",
        "     Religion = 2\n",
        "   if Religion == \"Jewish\":\n",
        "     Religion = 3\n",
        "   if Religion == \"Muslim/Muslimah\":\n",
        "     Religion = 4\n",
        "   if Religion == \"Other\":\n",
        "     Religion = 5\n",
        "\n",
        " #Highest_edu\n",
        "   if Highest_edu == \"Primary school\":\n",
        "     Highest_edu = 0\n",
        "   elif Highest_edu == \"Secondary school\":\n",
        "     Highest_edu = 1\n",
        "   elif Highest_edu == \"Diploma\":\n",
        "     Highest_edu = 2\n",
        "   elif Highest_edu == \"College/ matriculation/ form 6\":\n",
        "     Highest_edu = 3\n",
        "   elif Highest_edu == \"Bachelor\":\n",
        "     Highest_edu = 4\n",
        "   elif Highest_edu == \"Master\":\n",
        "     Highest_edu = 5\n",
        "   elif Highest_edu == \"PhD\":\n",
        "     Highest_edu = 6\n",
        "\n",
        " #Marital_status\n",
        "   if Marital_status == \"Divorced\":\n",
        "     Marital_status = 0\n",
        "   if Marital_status == \"Married\":\n",
        "     Marital_status = 1\n",
        "   if Marital_status == \"Separated\":\n",
        "     Marital_status = 2\n",
        "   if Marital_status == \"Single\":\n",
        "     Marital_status = 3\n",
        "\n",
        " #Own_driving_license\n",
        " #  if Own_driving_license == \"Does not own\":\n",
        " #    Own_driving_license = 0\n",
        " #  elif Own_driving_license == \"Own\":\n",
        " #    Own_driving_license = 1\n",
        "\n",
        " #Job_status\n",
        " #  if Job_status == \"Employed/Self-employed\":\n",
        " #    Job_status = 0\n",
        " #  elif Job_status == \"Retired\":\n",
        " #    Job_status = 1\n",
        " #  elif Job_status == \"Student\":\n",
        " #    Job_status = 2\n",
        " #  elif Job_status == \"Unemployed\":\n",
        " #    Job_status = 3\n",
        "\n",
        " #Own_pet\n",
        " #  if Own_pet == \"Does not own\":\n",
        " #    Own_pet = 0\n",
        " #  elif Own_pet == \"Own\":\n",
        " #    Own_pet = 1\n",
        "\n",
        " #Have_hobby\n",
        "   if Have_hobby == \"No\":\n",
        "     Have_hobby = 0\n",
        "   elif Have_hobby == \"Yes\":\n",
        "     Have_hobby = 1\n",
        "\n",
        " #Are_you_in_a_great_stress_or_do_you_find_any_of_the_questions_greatly_affecting_your_life_recently\n",
        " #  if Are_you_in_a_great_stress_or_do_you_find_any_of_the_questions_greatly_affecting_your_life_recently == \"No\":\n",
        " #    Are_you_in_a_great_stress_or_do_you_find_any_of_the_questions_greatly_affecting_your_life_recently = 0\n",
        " #  elif Are_you_in_a_great_stress_or_do_you_find_any_of_the_questions_greatly_affecting_your_life_recently == \"Yes\":\n",
        " #    Are_you_in_a_great_stress_or_do_you_find_any_of_the_questions_greatly_affecting_your_life_recently = 1\n",
        "\n",
        " #Do_you_have_any_family_member_that_have_been_diagnosed_with_mental_illness\n",
        "   if Do_you_have_any_family_member_that_have_been_diagnosed_with_mental_illness == \"No\":\n",
        "     Do_you_have_any_family_member_that_have_been_diagnosed_with_mental_illness = 0\n",
        "   elif Do_you_have_any_family_member_that_have_been_diagnosed_with_mental_illness == \"Yes\":\n",
        "     Do_you_have_any_family_member_that_have_been_diagnosed_with_mental_illness = 1\n",
        "\n",
        " #making predictions\n",
        "   #result = classifier.predict(x_test1)\n",
        "   prediction = classifier.predict([[Gender, Religion, Highest_edu, Marital_status, Have_hobby,\n",
        "              Do_you_have_any_family_member_that_have_been_diagnosed_with_mental_illness]])\n",
        "\n",
        "   return prediction\n",
        "\n",
        "def main():\n",
        "\n",
        "#front end elements of the web page\n",
        "     html_template1 = \"\"\"\n",
        "     <div style = \"background-color: Brown ; padding:20px\">\n",
        "     <h1 style =\"color:white; text-align:center;\"> Prodromal Schizophrenia</h1>\n",
        "     </div>\n",
        "     \"\"\"\n",
        "     #display the front end aspect\n",
        "     st.markdown(html_template1, unsafe_allow_html = True)\n",
        "\n",
        "     html_template2 = \"\"\"\n",
        "     <div style = \"background-color: IndianRed ; padding:20px\">\n",
        "     <h2 style =\"color:white; text-align:center;\">Prediction System </h2>\n",
        "     </div>\n",
        "     \"\"\"\n",
        "     st.markdown(html_template2, unsafe_allow_html = True)\n",
        "\n",
        "     #create boxes in which user can input the required data to make prediction\n",
        "     #Age_category = st.selectbox(\"Pick your age range: \", [\"16-35\", \"35-55\", \">55\"])\n",
        "     Gender = st.selectbox(\"Pick your gender: \", [\"Female\", \"Male\"])\n",
        "     #Race = st.selectbox(\"Pick your race: \", [\"Chinese\", \"Indian\", \"Malay\", \"Mixed race\", \"Other\", \"Sarawak/Sabah native\"])\n",
        "     Religion = st.selectbox(\"Pick your religion: \", [\"Buddhist\", \"Christian\", \"Hindu\", \"Jewish\", \"Muslim/Muslimah\", \"Other\"])\n",
        "     Highest_edu = st.selectbox(\"Pick your highest education: \", [\"Primary school\", \"Secondary school\", \"Diploma\", \"College/ matriculation/ form 6\",\"Bachelor\", \"Master\", \"PhD\"])\n",
        "     #Own_driving_license = st.selectbox(\"Pick your driving license status: \", [\"Own\", \"Does not own\"])\n",
        "     #Job_status = st.selectbox(\"Pick your job status: \", [\"Unemployed\", \"Student\", \"Employed/Self-employed\", \"Retired\"])\n",
        "     Marital_status = st.selectbox(\"Pick your marital status: \", [\"Divorced\", \"Married\", \"Separated\", \"Single\"])\n",
        "     #Own_pet = st.selectbox(\"Pick your pet ownership: \", [\"Own\", \"Does not own\"])\n",
        "     Have_hobby = st.selectbox(\"Do you have any hobby: \", [\"Yes\", \"No\"])\n",
        "     #Are_you_in_a_great_stress_or_do_you_find_any_of_the_questions_greatly_affecting_your_life_recently = st.selectbox(\"Are greatly stressed out with your life?: \", [\"Yes\", \"No\"])\n",
        "     Do_you_have_any_family_member_that_have_been_diagnosed_with_mental_illness = st.selectbox(\"Do you have blood related family member with mental illness?: \", [\"Yes\", \"No\"])\n",
        "     output = \"\"\n",
        "\n",
        "     #when 'predict' button is clicked, make the prediction and store it\n",
        "     if st.button (\"Predict\"):\n",
        "        prediction_output = prediction(Gender, Religion, Highest_edu, Marital_status, Have_hobby,\n",
        "              Do_you_have_any_family_member_that_have_been_diagnosed_with_mental_illness)\n",
        "\n",
        "        if prediction_output == 1:\n",
        "            display_output= \"HIGH chance of developing psychosis.\"\n",
        "        else:\n",
        "            display_output= \"LOW chance of developing psychosis.\"\n",
        "\n",
        "        st.success('According to the calculation, you have a {}'.format(display_output))\n",
        "\n",
        "        if prediction_output == 1:\n",
        "            st.markdown('<div style=\"text-align: justify;\">Don\\'t worry, we will guide you on how to get a proper checkup by expert!</div>', unsafe_allow_html=True)\n",
        "            st.markdown('')\n",
        "            st.markdown('<div style=\"text-align: justify;\">1) You need to choose between private or public hospital/clinic. </div>', unsafe_allow_html=True)\n",
        "            st.markdown('<div style=\"text-align: justify;\">->Private clinic/hospital can be pricier. In compensate, you can quickly see a doctor.</div>', unsafe_allow_html=True)\n",
        "            st.markdown('<div style=\"text-align: justify;\">->Meanwhile public hospital needs to wait, it can be hours or months.</div>', unsafe_allow_html=True)\n",
        "            st.markdown('<div style=\"text-align: justify;\">->It will also be crowded but the cost is cheaper.</div>', unsafe_allow_html=True)\n",
        "            st.markdown('')\n",
        "            st.markdown('<div style=\"text-align: justify;\">2) You need to decide which hospital to go.</div>', unsafe_allow_html=True)\n",
        "            st.markdown('<div style=\"text-align: justify;\">->It is recommended to choose the nearest one to your home.</div>', unsafe_allow_html=True)\n",
        "            st.markdown('')\n",
        "            st.markdown('<div style=\"text-align: justify;\">3) It is important to note for public hospital,you need a reference letter from any clinic.</div>', unsafe_allow_html=True)\n",
        "            st.markdown('<div style=\"text-align: justify;\">->Does not matter private or public.</div>', unsafe_allow_html=True)\n",
        "            st.markdown('')\n",
        "            st.markdown('<div style=\"text-align: justify;\">4) Bring the letter to psychiatric clinic and they will decide if your case is emergency or not.</div>', unsafe_allow_html=True)\n",
        "            st.markdown('<div style=\"text-align: justify;\">->For non-emergency, you might receive an appointment date first.</div>', unsafe_allow_html=True)\n",
        "            st.markdown('<div style=\"text-align: justify;\">->Emergency cases can come straight to the Emergency section..</div>', unsafe_allow_html=True)\n",
        "            st.markdown('<div style=\"text-align: justify;\">->Especially for cases that involve police and violence!</div>', unsafe_allow_html=True)\n",
        "            st.info(\"\\n(Prof Dr Ramli, 2018)\")\n",
        "\n",
        "        print (\"Done!\")\n",
        "\n",
        "     pickle_in.close()\n",
        "\n",
        "\n",
        "if __name__=='__main__':\n",
        "     main()"
      ],
      "metadata": {
        "id": "BVhaistXpln8"
      },
      "execution_count": null,
      "outputs": []
    },
    {
      "cell_type": "code",
      "execution_count": null,
      "metadata": {
        "id": "I_KnqEf8kt2J"
      },
      "outputs": [],
      "source": [
        "#check the file is ready\n",
        "!ls"
      ]
    },
    {
      "cell_type": "markdown",
      "source": [
        "## Run using ngrok"
      ],
      "metadata": {
        "id": "yYJ-KlsW0f5s"
      }
    },
    {
      "cell_type": "code",
      "execution_count": null,
      "metadata": {
        "id": "d94-pNEHZRcG"
      },
      "outputs": [],
      "source": [
        "#!pip install pyngrok"
      ]
    },
    {
      "cell_type": "code",
      "execution_count": null,
      "metadata": {
        "id": "cXkFmoFHkueY"
      },
      "outputs": [],
      "source": [
        "#start the app at port 80\n",
        "#!nohub streamlit run app.py &\n",
        "#!streamlit run --server.port 80 app.py&>/dev/null&"
      ]
    },
    {
      "cell_type": "code",
      "execution_count": null,
      "metadata": {
        "id": "EvzgXxYykzL5"
      },
      "outputs": [],
      "source": [
        "#from pyngrok import ngrok\n",
        "# Setup a tunnel to the streamlit port 8080\n",
        "#public_url = ngrok.connect(port='8501')\n",
        "#public_url"
      ]
    },
    {
      "cell_type": "markdown",
      "source": [
        "## Run using localtunnel"
      ],
      "metadata": {
        "id": "J-mpWEUP0n0s"
      }
    },
    {
      "cell_type": "code",
      "source": [
        "!streamlit run app.py & npx localtunnel --port 8501"
      ],
      "metadata": {
        "id": "hnidBuev0dvh"
      },
      "execution_count": null,
      "outputs": []
    },
    {
      "cell_type": "markdown",
      "metadata": {
        "id": "ix4Q1IDTpsXl"
      },
      "source": [
        "## Shutting down"
      ]
    },
    {
      "cell_type": "code",
      "source": [
        "pickle_in.close()"
      ],
      "metadata": {
        "id": "WSg9mj-AbpVi"
      },
      "execution_count": null,
      "outputs": []
    },
    {
      "cell_type": "code",
      "execution_count": null,
      "metadata": {
        "id": "KCnd-Bapk5EJ"
      },
      "outputs": [],
      "source": [
        "#shutting down app\n",
        "!pgrep streamlit"
      ]
    },
    {
      "cell_type": "code",
      "execution_count": null,
      "metadata": {
        "id": "pSFTdopEk5tF"
      },
      "outputs": [],
      "source": [
        "!ps -eaf | grep streamlit"
      ]
    },
    {
      "cell_type": "code",
      "execution_count": null,
      "metadata": {
        "id": "H5R5wEiMk7bD"
      },
      "outputs": [],
      "source": [
        "ngrok.kill()"
      ]
    },
    {
      "cell_type": "markdown",
      "metadata": {
        "id": "a_ysM-LfEQfu"
      },
      "source": [
        "# Reference\n",
        "\n",
        "1) Ordinal encoding - https://www.projectpro.io/recipes/encode-ordinal-categorical-features-in-python\n",
        "\n",
        "2) Feature selection -\n",
        "https://www.analyticsvidhya.com/blog/2020/10/feature-selection-techniques-in-machine-learning/\n",
        "\n",
        "https://www.datacamp.com/tutorial/feature-selection-python\n",
        "\n",
        "3) Mutual information - https://scikit-learn.org/stable/modules/generated/sklearn.feature_selection.mutual_info_classif.html\n",
        "\n",
        "4) Stratify -\n",
        "https://towardsdatascience.com/stratified-sampling-you-may-have-been-splitting-your-dataset-all-wrong-8cfdd0d32502\n",
        "\n",
        "5) SMOTE - https://machinelearningmastery.com/smote-oversampling-for-imbalanced-classification/\n",
        "\n",
        "6) Random forest - https://towardsdatascience.com/a-practical-guide-to-implementing-a-random-forest-classifier-in-python-979988d8a263\n",
        "\n",
        "7) GBC - https://towardsdatascience.com/gradient-boosting-classification-explained-through-python-60cc980eeb3d\n",
        "\n",
        "8) Hyperparameter tuning - https://towardsdatascience.com/hyperparameter-tuning-the-random-forest-in-python-using-scikit-learn-28d2aa77dd74\n",
        "\n",
        "9) Pickle - https://www.datacamp.com/tutorial/pickle-python-tutorial\n",
        "\n",
        "10) Save & reuse model - https://stackoverflow.com/questions/70616759/how-to-save-and-reuse-model-in-python\n",
        "\n",
        "11) Streamlit - https://www.misraturp.com/post/create-a-web-app-for-your-data-science-project-in-under-an-hour\n"
      ]
    },
    {
      "cell_type": "markdown",
      "source": [
        "## Random state"
      ],
      "metadata": {
        "id": "Z3aRuy7HxoWK"
      }
    },
    {
      "cell_type": "markdown",
      "source": [
        "Scikit-learn uses random permutations to generate the splits. The random state that you provide is used as a seed to the random number generator. This ensures that the random numbers are generated in the same order.\n",
        "\n",
        "-https://stackoverflow.com/questions/49147774/what-is-random-state-in-sklearn-model-selection-train-test-split-example"
      ],
      "metadata": {
        "id": "NyCvh1hExrjl"
      }
    }
  ],
  "metadata": {
    "colab": {
      "collapsed_sections": [
        "6Uv974Z4QoNe",
        "6GsSiN2GhOCk"
      ],
      "provenance": [],
      "include_colab_link": true
    },
    "kernelspec": {
      "display_name": "Python 3",
      "name": "python3"
    },
    "language_info": {
      "name": "python"
    }
  },
  "nbformat": 4,
  "nbformat_minor": 0
}